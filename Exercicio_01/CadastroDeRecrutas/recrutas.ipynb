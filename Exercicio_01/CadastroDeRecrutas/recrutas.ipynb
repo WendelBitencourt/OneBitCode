{
 "cells": [
  {
   "cell_type": "code",
   "execution_count": 1,
   "metadata": {},
   "outputs": [],
   "source": [
    "const primeiroNome = prompt(\"Informe o primeiro nome do recruta:\");\n",
    "const sobrenome = prompt(\"Informe o sobrenome do recruta:\");\n",
    "const campoDeEstudo = prompt(\"Qual é o campo de estudo do recruta?\");\n",
    "const anoDeNascimento = prompt(\"Qual é o ano de nascimento do recruta?\");"
   ]
  },
  {
   "cell_type": "code",
   "execution_count": 2,
   "metadata": {},
   "outputs": [
    {
     "name": "stdout",
     "output_type": "stream",
     "text": [
      "Recruta cadastrado com sucesso!\n",
      "\n",
      "Nome completo: Wendel Adriano Bitencourt\n",
      "Campo de estudo: Ciencia da Computação\n",
      "Idade: 29\n"
     ]
    }
   ],
   "source": [
    "console.log(\n",
    "    \"Recruta cadastrado com sucesso!\\n\" +\n",
    "      \"\\nNome completo: \" +\n",
    "      primeiroNome +\n",
    "      \" \" +\n",
    "      sobrenome +\n",
    "      \"\\nCampo de estudo: \" +\n",
    "      campoDeEstudo +\n",
    "      \"\\nIdade: \" +\n",
    "      (2024 - anoDeNascimento)\n",
    "  );\n",
    "  "
   ]
  }
 ],
 "metadata": {
  "kernelspec": {
   "display_name": "Deno",
   "language": "typescript",
   "name": "deno"
  },
  "language_info": {
   "codemirror_mode": "typescript",
   "file_extension": ".ts",
   "mimetype": "text/x.typescript",
   "name": "typescript",
   "nbconvert_exporter": "script",
   "pygments_lexer": "typescript",
   "version": "5.6.2"
  }
 },
 "nbformat": 4,
 "nbformat_minor": 2
}
