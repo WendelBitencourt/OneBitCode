{
 "cells": [
  {
   "cell_type": "code",
   "execution_count": null,
   "metadata": {},
   "outputs": [],
   "source": [
    "const entrada1 = parseFloat(prompt(\"Informe o primeiro número:\"));\n",
    "const entrada2 = parseFloat(prompt(\"Informe o segundo número:\"));\n",
    "\n",
    "const soma = entrada1 + entrada2;\n",
    "const subtracao = entrada1 - entrada2;\n",
    "const multiplicacao = entrada1 * entrada2;\n",
    "const divisao = entrada1 / entrada2;\n"
   ]
  },
  {
   "cell_type": "code",
   "execution_count": null,
   "metadata": {},
   "outputs": [],
   "source": [
    "console.log(\n",
    "    \"Resultados:\\n\" +\n",
    "      \"\\nSoma: \" +\n",
    "      soma +\n",
    "      \"\\nSubtração: \" +\n",
    "      subtracao +\n",
    "      \"\\nMultiplicação: \" +\n",
    "      multiplicacao +\n",
    "      \"\\nDivisão: \" +\n",
    "      divisao\n",
    "  );\n",
    "  "
   ]
  }
 ],
 "metadata": {
  "kernelspec": {
   "display_name": "Deno",
   "language": "typescript",
   "name": "deno"
  },
  "language_info": {
   "name": "typescript"
  }
 },
 "nbformat": 4,
 "nbformat_minor": 2
}
