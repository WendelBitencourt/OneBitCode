{
 "cells": [
  {
   "cell_type": "markdown",
   "metadata": {},
   "source": [
    "# <span style=\"color: red;\">Tipos de Dados no JavaScript</span>\n",
    "\n",
    "## <span style=\"color: green;\">Introdução</span>\n",
    "\n",
    "O JavaScript é uma linguagem de programação amplamente utilizada para criar páginas web interativas e aplicações web dinâmicas.\n",
    "\n",
    "Esses são os tipos de dados mais bássicos do Javascript:\n",
    "\n",
    "## <span style=\"color: green;\">Tipos Primitivos</span>\n",
    "\n",
    "Os tipos primitivos no JavaScript são os tipos de dados mais simples que existem na linguagem. São eles:\n",
    "\n",
    "### <span style=\"color: orange;\">Number</span>\n",
    "\n",
    "O tipo Number representa valores numéricos como inteiros, decimais (números com vírgula) e até valores especiais como +Infinity, -Infinity e NaN (Not a Number ou Não é um Número).\n"
   ]
  },
  {
   "cell_type": "code",
   "execution_count": 2,
   "metadata": {},
   "outputs": [
    {
     "data": {
      "text/plain": [
       "\u001b[33m393.14\u001b[39m"
      ]
     },
     "execution_count": 2,
     "metadata": {},
     "output_type": "execute_result"
    }
   ],
   "source": [
    "423.14-30"
   ]
  },
  {
   "cell_type": "markdown",
   "metadata": {},
   "source": [
    "### <span style=\"color: orange;\">BigInt</span>\n",
    "\n",
    "O tipo BigInt foi introduzido mais recentemente no JavaScript e serve para representar inteiros muito grandes, maiores do que o tipo Number consegue suportar.\n",
    "\n",
    "Para declarar um BigInt, basta adicionar um \"n\" no final do número:"
   ]
  },
  {
   "cell_type": "code",
   "execution_count": 4,
   "metadata": {},
   "outputs": [
    {
     "data": {
      "text/plain": [
       "\u001b[32m\"bigint\"\u001b[39m"
      ]
     },
     "execution_count": 4,
     "metadata": {},
     "output_type": "execute_result"
    }
   ],
   "source": [
    "typeof 123456789123456789123456789n;"
   ]
  },
  {
   "cell_type": "markdown",
   "metadata": {},
   "source": [
    "### <span style=\"color: orange;\">String</span>\n",
    "\n",
    "O tipo String representa textos no JavaScript. Para declarar uma string, é necessário colocar o texto entre aspas simples ou duplas:"
   ]
  },
  {
   "cell_type": "code",
   "execution_count": null,
   "metadata": {},
   "outputs": [],
   "source": [
    "console.log(\"Javascript é muito supimpa\");"
   ]
  },
  {
   "cell_type": "markdown",
   "metadata": {},
   "source": [
    "As strings também podem ser acessadas como arrays de caracteres, por meio de seus índices iniciando em 0:\n",
    "\n",
    "No exemplo abaixo os resultados serão <span style=\"color: green;\">J</span> e <span style=\"color: green;\">v</span>\n"
   ]
  },
  {
   "cell_type": "code",
   "execution_count": null,
   "metadata": {},
   "outputs": [],
   "source": [
    "console.log('Javascript'[0]);\n",
    "console.log('Javascript'[2]);"
   ]
  },
  {
   "cell_type": "markdown",
   "metadata": {},
   "source": [
    "Também é possível obter o tamanho da string com a propriedade .length:"
   ]
  },
  {
   "cell_type": "code",
   "execution_count": 5,
   "metadata": {},
   "outputs": [
    {
     "data": {
      "text/plain": [
       "\u001b[33m10\u001b[39m"
      ]
     },
     "execution_count": 5,
     "metadata": {},
     "output_type": "execute_result"
    }
   ],
   "source": [
    "'JavaScript'.length"
   ]
  },
  {
   "cell_type": "markdown",
   "metadata": {},
   "source": [
    "### <span style=\"color: orange;\">Boolean</span>\n",
    "\n",
    "O tipo Boolean representa valores lógicos que podem ser apenas verdadeiro (true) ou falso (false).\n",
    "\n",
    "É muito utilizado em comparações e validações."
   ]
  },
  {
   "cell_type": "code",
   "execution_count": 6,
   "metadata": {},
   "outputs": [
    {
     "data": {
      "text/plain": [
       "\u001b[32m\"boolean\"\u001b[39m"
      ]
     },
     "execution_count": 6,
     "metadata": {},
     "output_type": "execute_result"
    }
   ],
   "source": [
    "typeof true;"
   ]
  },
  {
   "cell_type": "markdown",
   "metadata": {},
   "source": [
    "### <span style=\"color: orange;\">Null e Undefined</span>\n",
    "\n",
    "Null e Undefined também são tipos primitivos no JavaScript com algumas diferenças sutis:\n",
    "\n",
    "- **Null** representa um valor nulo intencionalmente atribuído.\n",
    "- **Undefined** representa um valor não-inicializado, ou seja, uma variável declarada mas que ainda não teve um valor definido."
   ]
  },
  {
   "cell_type": "code",
   "execution_count": 8,
   "metadata": {},
   "outputs": [
    {
     "name": "stdout",
     "output_type": "stream",
     "text": [
      "null\n",
      "undefined\n"
     ]
    }
   ],
   "source": [
    "let x = null;\n",
    "let y\n",
    "\n",
    "console.log(x);\n",
    "console.log(y);"
   ]
  },
  {
   "cell_type": "markdown",
   "metadata": {},
   "source": [
    "## <span style=\"color: green;\">Tipos Complexos</span>\n",
    "\n",
    "Além dos tipos primitivos, também existem tipos de dados mais complexos no JavaScript:\n",
    "\n",
    "### <span style=\"color: orange;\">Objetos</span>\n",
    "\n",
    "Objetos são coleções de propriedades que possuem chave e valor. São muito utilizados para representar entidades do mundo real em código."
   ]
  },
  {
   "cell_type": "code",
   "execution_count": null,
   "metadata": {},
   "outputs": [],
   "source": [
    "const pessoa = {\n",
    "    nome: 'João',\n",
    "    idade: 25,\n",
    "    estaAprovado: true\n",
    "    };\n",
    "\n",
    "console.log(pessoa);"
   ]
  },
  {
   "cell_type": "markdown",
   "metadata": {},
   "source": [
    "### <span style=\"color: orange;\">Funções</span>\n",
    "\n",
    "Funções são trechos de código que podem ser executados e retornar um valor. Permitem a reutilização do mesmo código em diferentes partes do programa.\n",
    "\n",
    "Podem receber parâmetros e retornar valores."
   ]
  },
  {
   "cell_type": "code",
   "execution_count": null,
   "metadata": {},
   "outputs": [],
   "source": [
    "function soma(a, b) {\n",
    "    return a + b\n",
    "  }\n",
    "\n",
    "console.log(soma(3, 5));"
   ]
  }
 ],
 "metadata": {
  "kernelspec": {
   "display_name": "Deno",
   "language": "typescript",
   "name": "deno"
  },
  "language_info": {
   "codemirror_mode": "typescript",
   "file_extension": ".ts",
   "mimetype": "text/x.typescript",
   "name": "typescript",
   "nbconvert_exporter": "script",
   "pygments_lexer": "typescript",
   "version": "5.5.2"
  }
 },
 "nbformat": 4,
 "nbformat_minor": 2
}
