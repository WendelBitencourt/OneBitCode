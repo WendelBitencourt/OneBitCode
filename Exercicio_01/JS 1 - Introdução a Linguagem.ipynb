{
 "cells": [
  {
   "cell_type": "markdown",
   "metadata": {},
   "source": [
    "# <span style=\"color: red;\">Tipos de Dados no JavaScript</span>\n",
    "\n",
    "## <span style=\"color: green;\">Introdução</span>\n",
    "\n",
    "O JavaScript é uma linguagem de programação amplamente utilizada para criar páginas web interativas e aplicações web dinâmicas.\n",
    "\n",
    "Esses são os tipos de dados mais bássicos do Javascript:\n",
    "\n",
    "## <span style=\"color: green;\">Tipos Primitivos</span>\n",
    "\n",
    "Os tipos primitivos no JavaScript são os tipos de dados mais simples que existem na linguagem. São eles:\n",
    "\n",
    "### <span style=\"color: orange;\">Number</span>\n",
    "\n",
    "O tipo Number representa valores numéricos como inteiros, decimais (números com vírgula) e até valores especiais como +Infinity, -Infinity e NaN (Not a Number ou Não é um Número).\n"
   ]
  },
  {
   "cell_type": "code",
   "execution_count": 1,
   "metadata": {},
   "outputs": [
    {
     "data": {
      "text/plain": [
       "\u001b[33m393.14\u001b[39m"
      ]
     },
     "execution_count": 1,
     "metadata": {},
     "output_type": "execute_result"
    }
   ],
   "source": [
    "423.14-30"
   ]
  },
  {
   "cell_type": "markdown",
   "metadata": {},
   "source": [
    "### <span style=\"color: orange;\">BigInt</span>\n",
    "\n",
    "O tipo BigInt foi introduzido mais recentemente no JavaScript e serve para representar inteiros muito grandes, maiores do que o tipo Number consegue suportar.\n",
    "\n",
    "Para declarar um BigInt, basta adicionar um \"n\" no final do número:"
   ]
  },
  {
   "cell_type": "code",
   "execution_count": 2,
   "metadata": {},
   "outputs": [
    {
     "data": {
      "text/plain": [
       "\u001b[32m\"bigint\"\u001b[39m"
      ]
     },
     "execution_count": 2,
     "metadata": {},
     "output_type": "execute_result"
    }
   ],
   "source": [
    "typeof 123456789123456789123456789n;"
   ]
  },
  {
   "cell_type": "markdown",
   "metadata": {},
   "source": [
    "### <span style=\"color: orange;\">String</span>\n",
    "\n",
    "O tipo String representa textos no JavaScript. Para declarar uma string, é necessário colocar o texto entre aspas simples ou duplas:"
   ]
  },
  {
   "cell_type": "code",
   "execution_count": 3,
   "metadata": {},
   "outputs": [
    {
     "name": "stdout",
     "output_type": "stream",
     "text": [
      "Javascript é muito supimpa\n"
     ]
    }
   ],
   "source": [
    "console.log(\"Javascript é muito supimpa\");"
   ]
  },
  {
   "cell_type": "markdown",
   "metadata": {},
   "source": [
    "As strings também podem ser acessadas como arrays de caracteres, por meio de seus índices iniciando em 0:\n",
    "\n",
    "No exemplo abaixo os resultados serão <span style=\"color: green;\">J</span> e <span style=\"color: green;\">v</span>\n"
   ]
  },
  {
   "cell_type": "code",
   "execution_count": 4,
   "metadata": {},
   "outputs": [
    {
     "name": "stdout",
     "output_type": "stream",
     "text": [
      "J\n",
      "v\n"
     ]
    }
   ],
   "source": [
    "console.log('Javascript'[0]);\n",
    "console.log('Javascript'[2]);"
   ]
  },
  {
   "cell_type": "markdown",
   "metadata": {},
   "source": [
    "Também é possível obter o tamanho da string com a propriedade .length:"
   ]
  },
  {
   "cell_type": "code",
   "execution_count": 5,
   "metadata": {},
   "outputs": [
    {
     "data": {
      "text/plain": [
       "\u001b[33m10\u001b[39m"
      ]
     },
     "execution_count": 5,
     "metadata": {},
     "output_type": "execute_result"
    }
   ],
   "source": [
    "'JavaScript'.length"
   ]
  },
  {
   "cell_type": "markdown",
   "metadata": {},
   "source": [
    "### <span style=\"color: orange;\">Boolean</span>\n",
    "\n",
    "O tipo Boolean representa valores lógicos que podem ser apenas verdadeiro (true) ou falso (false).\n",
    "\n",
    "É muito utilizado em comparações e validações."
   ]
  },
  {
   "cell_type": "code",
   "execution_count": 6,
   "metadata": {},
   "outputs": [
    {
     "data": {
      "text/plain": [
       "\u001b[32m\"boolean\"\u001b[39m"
      ]
     },
     "execution_count": 6,
     "metadata": {},
     "output_type": "execute_result"
    }
   ],
   "source": [
    "typeof true;"
   ]
  },
  {
   "cell_type": "markdown",
   "metadata": {},
   "source": [
    "### <span style=\"color: orange;\">Null e Undefined</span>\n",
    "\n",
    "Null e Undefined também são tipos primitivos no JavaScript com algumas diferenças sutis:\n",
    "\n",
    "- **Null** representa um valor nulo intencionalmente atribuído.\n",
    "- **Undefined** representa um valor não-inicializado, ou seja, uma variável declarada mas que ainda não teve um valor definido."
   ]
  },
  {
   "cell_type": "code",
   "execution_count": 7,
   "metadata": {},
   "outputs": [
    {
     "name": "stdout",
     "output_type": "stream",
     "text": [
      "null\n",
      "undefined\n"
     ]
    }
   ],
   "source": [
    "let x = null;\n",
    "let y\n",
    "\n",
    "console.log(x);\n",
    "console.log(y);"
   ]
  },
  {
   "cell_type": "markdown",
   "metadata": {},
   "source": [
    "## <span style=\"color: green;\">Tipos Complexos</span>\n",
    "\n",
    "Além dos tipos primitivos, também existem tipos de dados mais complexos no JavaScript:\n",
    "\n",
    "### <span style=\"color: orange;\">Objetos</span>\n",
    "\n",
    "Objetos são coleções de propriedades que possuem chave e valor. São muito utilizados para representar entidades do mundo real em código."
   ]
  },
  {
   "cell_type": "code",
   "execution_count": 8,
   "metadata": {},
   "outputs": [
    {
     "name": "stdout",
     "output_type": "stream",
     "text": [
      "{ nome: \"João\", idade: 25, estaAprovado: true }\n"
     ]
    }
   ],
   "source": [
    "const pessoa = {\n",
    "    nome: 'João',\n",
    "    idade: 25,\n",
    "    estaAprovado: true\n",
    "    };\n",
    "\n",
    "console.log(pessoa);"
   ]
  },
  {
   "cell_type": "markdown",
   "metadata": {},
   "source": [
    "### <span style=\"color: orange;\">Funções</span>\n",
    "\n",
    "Funções são trechos de código que podem ser executados e retornar um valor. Permitem a reutilização do mesmo código em diferentes partes do programa.\n",
    "\n",
    "Podem receber parâmetros e retornar valores."
   ]
  },
  {
   "cell_type": "code",
   "execution_count": 9,
   "metadata": {},
   "outputs": [
    {
     "name": "stdout",
     "output_type": "stream",
     "text": [
      "8\n"
     ]
    }
   ],
   "source": [
    "function soma(a, b) {\n",
    "    return a + b\n",
    "  }\n",
    "\n",
    "console.log(soma(3, 5));"
   ]
  },
  {
   "cell_type": "markdown",
   "metadata": {},
   "source": [
    "### <span style=\"color: orange;\">Arrays</span>\n",
    "\n",
    "Serve para armazenar de dados.\n"
   ]
  },
  {
   "cell_type": "code",
   "execution_count": 10,
   "metadata": {},
   "outputs": [],
   "source": [
    "let numeros = [1, 2, 3, 4, 5];\n"
   ]
  },
  {
   "cell_type": "markdown",
   "metadata": {},
   "source": [
    "No JavaScript, o array se assemelha a uma lista e não a um array no sentido clássico das linguagens de programação (como C ou Java). Diferente de arrays tradicionais, onde os elementos são armazenados em blocos de memória contínuos, os arrays do JavaScript são estruturas dinâmicas e mais flexíveis, como listas, permitindo que elementos de tipos diferentes sejam armazenados no mesmo array e que seu tamanho seja alterado durante a execução.\n",
    "\n",
    "#### <span style=\"color: orange;\">Tamanho Dinâmico</span>\n",
    "Os arrays do JavaScript podem crescer e diminuir dinamicamente. Não é necessário especificar o tamanho do array ao criá-lo, e você pode adicionar ou remover elementos conforme necessário.\n"
   ]
  },
  {
   "cell_type": "code",
   "execution_count": 11,
   "metadata": {},
   "outputs": [
    {
     "data": {
      "text/plain": [
       "\u001b[33m4\u001b[39m"
      ]
     },
     "execution_count": 11,
     "metadata": {},
     "output_type": "execute_result"
    }
   ],
   "source": [
    "let lista = [1, 2, 3];\n",
    "lista.push(4); // Adiciona o elemento 4 no final\n",
    "lista.pop();   // Remove o último elemento"
   ]
  },
  {
   "cell_type": "markdown",
   "metadata": {},
   "source": [
    "#### <span style=\"color: orange;\">Elementos de Diferentes Tipos</span>\n",
    "\n",
    "Diferente de arrays tradicionais que suportam apenas um tipo específico de dado, os arrays do JavaScript podem conter elementos de diferentes tipos:"
   ]
  },
  {
   "cell_type": "code",
   "execution_count": 12,
   "metadata": {},
   "outputs": [],
   "source": [
    "let misturado = [1, \"texto\", true, { nome: \"Ana\" }, [1, 2, 3]];\n"
   ]
  },
  {
   "cell_type": "markdown",
   "metadata": {},
   "source": [
    "#### <span style=\"color: orange;\">Métodos e Propriedades para Manipulação</span>\n",
    "\n",
    "JavaScript oferece vários métodos de alto nível que tornam os arrays muito versáteis, como map, filter, reduce, entre outros, que são mais comuns em estruturas de listas do que em arrays tradicionais.\n",
    "\n",
    "#### <span style=\"color: orange;\">Índices Numéricos, Mas Não Contínuos</span>\n",
    "Embora o JavaScript organize arrays com base em índices numéricos, você pode definir índices \"sparsos\" (não-contínuos), o que seria incomum em arrays de baixo nível. Exemplo:"
   ]
  },
  {
   "cell_type": "code",
   "execution_count": 13,
   "metadata": {},
   "outputs": [
    {
     "name": "stdout",
     "output_type": "stream",
     "text": [
      "101\n"
     ]
    }
   ],
   "source": [
    "let lista = [];\n",
    "lista[100] = \"cem\";\n",
    "console.log(lista.length); // 101, mas a maioria dos índices estão \"vazios\"\n"
   ]
  }
 ],
 "metadata": {
  "kernelspec": {
   "display_name": "Deno",
   "language": "typescript",
   "name": "deno"
  },
  "language_info": {
   "codemirror_mode": "typescript",
   "file_extension": ".ts",
   "mimetype": "text/x.typescript",
   "name": "typescript",
   "nbconvert_exporter": "script",
   "pygments_lexer": "typescript",
   "version": "5.6.2"
  }
 },
 "nbformat": 4,
 "nbformat_minor": 2
}
